{
 "cells": [
  {
   "cell_type": "code",
   "execution_count": 20,
   "id": "286116f4-ab36-4e51-b6d7-a0962a1e55f8",
   "metadata": {},
   "outputs": [],
   "source": [
    "#T4ha\n",
    "\n",
    "from sklearn.feature_extraction.text import TfidfTransformer\n",
    "from sklearn.feature_extraction.text import CountVectorizer\n",
    "from sklearn.pipeline import Pipeline\n",
    "\n",
    "#Enter your corpus here\n",
    "corpus = [\n",
    "    \"Pizza, that ubiquitous dish loved and cherished worldwide, transcends mere sustenance to embody a cultural phenomenon. Its origins, rooted in the culinary history of Naples, Italy, tell a tale of simplicity, yet its journey across continents and through centuries has seen it evolve into a culinary canvas where innovation knows no bounds.\",\n",
    "    \"At its core, pizza is a marvel of simplicity. A thin, crispy crust, adorned with tangy tomato sauce and melted cheese, is the foundation upon which a multitude of flavors and textures harmonize. The classic Margherita, with its vibrant red tomatoes, fresh basil leaves, and creamy mozzarella, remains a testament to the elegance of simplicity. Each bite is a symphony of flavors, evoking memories of sunny Italian piazzas and bustling trattorias.\",\n",
    "    \"Yet, pizza is also a reflection of cultural diversity and culinary creativity. As it journeyed across oceans and continents, it assimilated a myriad of ingredients and techniques, resulting in a kaleidoscope of flavors and styles. In New York City, the iconic New York slice reigns supreme, with its foldable crust and generous toppings, reflecting the city's vibrant energy and diverse population. Meanwhile, in Chicago, the deep-dish pizza stands tall, its towering layers of dough, cheese, and sauce a testament to Midwestern ingenuity and hearty appetites.\",\n",
    "    \"Beyond its traditional incarnations, pizza has become a blank canvas for culinary experimentation. From gourmet toppings like truffle oil and arugula to unconventional crusts made from cauliflower or gluten-free flour, the possibilities are endless. In the age of globalization, pizza has seamlessly integrated flavors from every corner of the globe, giving rise to fusion creations like Thai curry pizza or BBQ chicken pizza, where East meets West in a delightful gastronomic fusion.\",\n",
    "    \"Yet, amidst this whirlwind of innovation, the essence of pizza remains unchanged: it is a dish meant to be shared and enjoyed with loved ones. Whether gathered around a wood-fired oven in Naples or ordering delivery on a cozy night in, pizza has an innate ability to bring people together, transcending cultural and linguistic barriers with its universal appeal.\",\n",
    "    \"Moreover, pizza holds a special place in the hearts of many for its comforting familiarity. It is the ultimate comfort food, capable of soothing both body and soul with its warm, cheesy embrace. In times of celebration, it is the centerpiece of birthday parties and Super Bowl gatherings, its presence a symbol of joy and conviviality. Equally, in times of sorrow, it offers solace and sustenance, a reminder that even in the darkest of moments, there is still comfort to be found in the simple pleasure of a slice of pizza.\",\n",
    "    \"As we navigate an increasingly complex and interconnected world, pizza remains a beacon of simplicity and joy. In its humble form, it embodies the essence of Italian hospitality and conviviality, while its endless variations reflect the boundless creativity of human ingenuity. Whether enjoyed in a bustling pizzeria or homemade with love in a humble kitchen, pizza continues to captivate hearts and tantalize taste buds, proving that sometimes, the simplest pleasures are truly the most profound.\"\n",
    "]\n",
    "\n",
    "#Enter your selcted words to calculate their TF-IDF score\n",
    "vocabulary = ['pizza', 'italy', 'thin', 'layers', 'oven', 'joy', 'fresh', 'dish']\n",
    "\n",
    "pipe = Pipeline([('count', CountVectorizer(vocabulary=vocabulary)), ('tfid', TfidfTransformer())]).fit(corpus)"
   ]
  },
  {
   "cell_type": "code",
   "execution_count": 21,
   "id": "a88b0e13-9932-4c05-bb63-6d609c339ed6",
   "metadata": {},
   "outputs": [
    {
     "data": {
      "text/plain": [
       "array([[1, 1, 0, 0, 0, 0, 0, 1],\n",
       "       [1, 0, 1, 0, 0, 0, 1, 0],\n",
       "       [2, 0, 0, 1, 0, 0, 0, 1],\n",
       "       [4, 0, 0, 0, 0, 0, 0, 0],\n",
       "       [2, 0, 0, 0, 1, 0, 0, 1],\n",
       "       [2, 0, 0, 0, 0, 1, 0, 0],\n",
       "       [2, 0, 0, 0, 0, 1, 0, 0]], dtype=int64)"
      ]
     },
     "execution_count": 21,
     "metadata": {},
     "output_type": "execute_result"
    }
   ],
   "source": [
    "pipe['count'].transform(corpus).toarray()"
   ]
  },
  {
   "cell_type": "code",
   "execution_count": 22,
   "id": "621b5163-e596-4c6d-b905-594a1823a213",
   "metadata": {},
   "outputs": [
    {
     "data": {
      "text/plain": [
       "array([1.        , 2.38629436, 2.38629436, 2.38629436, 2.38629436,\n",
       "       1.98082925, 2.38629436, 1.69314718])"
      ]
     },
     "execution_count": 22,
     "metadata": {},
     "output_type": "execute_result"
    }
   ],
   "source": [
    "#printing TF-IDF scores\n",
    "pipe['tfid'].idf_"
   ]
  }
 ],
 "metadata": {
  "kernelspec": {
   "display_name": "Python 3 (ipykernel)",
   "language": "python",
   "name": "python3"
  },
  "language_info": {
   "codemirror_mode": {
    "name": "ipython",
    "version": 3
   },
   "file_extension": ".py",
   "mimetype": "text/x-python",
   "name": "python",
   "nbconvert_exporter": "python",
   "pygments_lexer": "ipython3",
   "version": "3.11.3"
  }
 },
 "nbformat": 4,
 "nbformat_minor": 5
}
